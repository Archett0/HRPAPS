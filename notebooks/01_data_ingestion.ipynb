{
 "cells": [
  {
   "metadata": {},
   "cell_type": "markdown",
   "source": "# 1. Data Ingestion",
   "id": "c0d7653bb643399c"
  },
  {
   "cell_type": "code",
   "execution_count": null,
   "id": "initial_id",
   "metadata": {
    "collapsed": true
   },
   "outputs": [],
   "source": "import pandas as pd"
  },
  {
   "metadata": {},
   "cell_type": "markdown",
   "source": "## 1.1 From Downloaded Files",
   "id": "370710e3a5fd9b99"
  },
  {
   "metadata": {},
   "cell_type": "code",
   "outputs": [],
   "execution_count": null,
   "source": [
    "csv_files = [\n",
    "    \"/content/ResaleFlatPricesBasedonApprovalDate19901999.csv\",\n",
    "    \"/content/ResaleFlatPricesBasedonApprovalDate2000Feb2012.csv\",\n",
    "    \"/content/ResaleFlatPricesBasedonRegistrationDateFromJan2015toDec2016.csv\",\n",
    "    \"/content/ResaleFlatPricesBasedonRegistrationDateFromMar2012toDec2014.csv\",\n",
    "    \"/content/ResaleflatpricesbasedonregistrationdatefromJan2017onwards.csv\"\n",
    "]"
   ],
   "id": "c44d8f379738935e"
  },
  {
   "metadata": {},
   "cell_type": "code",
   "outputs": [],
   "execution_count": null,
   "source": [
    "df_list = [pd.read_csv(file) for file in csv_files]\n",
    "df = pd.concat(df_list, ignore_index=True)"
   ],
   "id": "76b9d08631c02c7e"
  },
  {
   "metadata": {},
   "cell_type": "markdown",
   "source": "Clean",
   "id": "c780da2ee79145a4"
  },
  {
   "metadata": {},
   "cell_type": "code",
   "outputs": [],
   "execution_count": null,
   "source": [
    "df.columns = [col.lower().strip().replace(\" \", \"_\") for col in df.columns]\n",
    "\n",
    "if 'remaining_lease' in df.columns:\n",
    "    df.drop(columns=['remaining_lease'], inplace=True)\n",
    "df['month'] = pd.to_datetime(df['month'], errors='coerce')\n",
    "df['resale_price'] = pd.to_numeric(df['resale_price'], errors='coerce')\n",
    "df['floor_area_sqm'] = pd.to_numeric(df.get('floor_area_sqm'), errors='coerce')\n",
    "df['lease_commence_date'] = pd.to_numeric(df.get('lease_commence_date'), errors='coerce')\n",
    "\n",
    "df.dropna(subset=['month', 'resale_price', 'town', 'flat_type'], inplace=True)\n",
    "\n",
    "categorical_cols = ['town', 'flat_type', 'flat_model', 'block', 'street_name']\n",
    "for col in categorical_cols:\n",
    "    if col in df.columns:\n",
    "        df[col] = df[col].astype('category')\n",
    "\n",
    "df.sort_values(by='month', inplace=True)\n",
    "df.reset_index(drop=True, inplace=True)"
   ],
   "id": "36b3433c3af46006"
  },
  {
   "metadata": {},
   "cell_type": "markdown",
   "source": "Save to files",
   "id": "5b7bb2f65298f62e"
  },
  {
   "metadata": {},
   "cell_type": "code",
   "outputs": [],
   "execution_count": null,
   "source": [
    "df.to_csv(\"cleaned_hdb_resale_data.csv\", index=False)\n",
    "df.to_parquet(\"cleaned_hdb_resale_data.parquet\")"
   ],
   "id": "faae0eef4eed2f0f"
  }
 ],
 "metadata": {
  "kernelspec": {
   "display_name": "Python 3",
   "language": "python",
   "name": "python3"
  },
  "language_info": {
   "codemirror_mode": {
    "name": "ipython",
    "version": 2
   },
   "file_extension": ".py",
   "mimetype": "text/x-python",
   "name": "python",
   "nbconvert_exporter": "python",
   "pygments_lexer": "ipython2",
   "version": "2.7.6"
  }
 },
 "nbformat": 4,
 "nbformat_minor": 5
}
